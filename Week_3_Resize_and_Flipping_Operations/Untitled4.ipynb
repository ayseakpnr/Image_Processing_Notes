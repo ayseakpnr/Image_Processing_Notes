{
 "cells": [
  {
   "cell_type": "code",
   "execution_count": 10,
   "id": "e67142ac-b610-4762-aaa0-d5ec8e3514ce",
   "metadata": {},
   "outputs": [],
   "source": [
    "import cv2\n",
    "import numpy as np"
   ]
  },
  {
   "cell_type": "code",
   "execution_count": 11,
   "id": "296d86ec-7cd4-4ea9-a748-bfdd7f7f770a",
   "metadata": {},
   "outputs": [
    {
     "name": "stdout",
     "output_type": "stream",
     "text": [
      "(312, 312, 3)\n"
     ]
    }
   ],
   "source": [
    "my_img = cv2.imread(\"./indir.webp\",1)\n",
    "print(my_img.shape)"
   ]
  },
  {
   "cell_type": "code",
   "execution_count": 12,
   "id": "fd79ada0-e7d4-4d26-95c8-15ffae0278a1",
   "metadata": {},
   "outputs": [],
   "source": [
    "cv2.imshow(\"RGB Image\",my_img)\n",
    "cv2.waitKey(0)\n",
    "cv2.destroyAllWindows()"
   ]
  },
  {
   "cell_type": "code",
   "execution_count": 13,
   "id": "931f9376-5bad-4820-8231-920331b08bcb",
   "metadata": {},
   "outputs": [],
   "source": [
    "img_vertical = cv2.flip(my_img,0)\n",
    "img_horizontal = cv2.flip(my_img,1)\n",
    "img_both = cv2.flip(my_img,-1)"
   ]
  },
  {
   "cell_type": "code",
   "execution_count": 14,
   "id": "7c6accdc-d8d2-4913-8bcf-4bd6e10c0c41",
   "metadata": {},
   "outputs": [],
   "source": [
    "cv2.imshow(\"Original Image\",my_img)\n",
    "cv2.imshow(\"Vertical Image\",img_vertical)\n",
    "cv2.imshow(\"Horizontal Image\",img_horizontal)\n",
    "cv2.imshow(\"Vertical and Horizontal Image\",img_both)\n",
    "cv2.waitKey(0)\n",
    "cv2.destroyAllWindows() "
   ]
  },
  {
   "cell_type": "code",
   "execution_count": 15,
   "id": "40afdc96-e33b-489d-882c-86b7fb2733c3",
   "metadata": {},
   "outputs": [
    {
     "data": {
      "text/plain": [
       "numpy.ndarray"
      ]
     },
     "execution_count": 15,
     "metadata": {},
     "output_type": "execute_result"
    }
   ],
   "source": [
    "type(my_img)"
   ]
  },
  {
   "cell_type": "code",
   "execution_count": 16,
   "id": "dedce752-a7fb-4248-9bdb-9b658609100c",
   "metadata": {},
   "outputs": [],
   "source": [
    "vertical_with_code = my_img[: :-1,:,:]\n",
    "cv2.imshow(\"Vertical Image With Code\",vertical_with_code)\n",
    "cv2.waitKey(0)\n",
    "cv2.destroyAllWindows()"
   ]
  },
  {
   "cell_type": "code",
   "execution_count": 23,
   "id": "6546e516-0021-4194-aa27-249899c56c42",
   "metadata": {},
   "outputs": [],
   "source": [
    "horizontal_with_code = my_img[:,: :-1,:]\n",
    "cv2.imshow(\"Horizontal Image With Code\",horizontal_with_code)\n",
    "cv2.waitKey(0)\n",
    "cv2.destroyAllWindows()"
   ]
  },
  {
   "cell_type": "code",
   "execution_count": 22,
   "id": "5fc6d88b-b740-444a-a501-b3fde38dc9ec",
   "metadata": {},
   "outputs": [
    {
     "name": "stdout",
     "output_type": "stream",
     "text": [
      "[1, 2, 3, 4, 5, 6, 7, 8, 9, 10]\n",
      "[10, 9, 8, 7, 6, 5, 4, 3, 2, 1]\n"
     ]
    }
   ],
   "source": [
    "my_list = [x for x in range(1,11)]\n",
    "print(my_list)\n",
    "\n",
    "print(my_list[: :-1])\n",
    "print(f\"ilk değer ={my_list[0]}\")\n",
    "print(f\"son değer ={my_list[9]}\")\n",
    "print(f\"son değer ={my_list[0]}\")"
   ]
  },
  {
   "cell_type": "code",
   "execution_count": 24,
   "id": "0f36901b-cc73-477d-bd92-3df9f3d1c57c",
   "metadata": {},
   "outputs": [
    {
     "name": "stdout",
     "output_type": "stream",
     "text": [
      "(312, 312, 3)\n",
      "Görüntünün Yüksekliği =312\n",
      "Görüntünün Genişliği =312\n",
      "Görüntünün Kanal Sayısı =3\n"
     ]
    }
   ],
   "source": [
    "#resize processing \n",
    "\n",
    "print(my_img.shape)\n",
    "print(f\"Görüntünün Yüksekliği ={my_img.shape[0]}\")\n",
    "print(f\"Görüntünün Genişliği ={my_img.shape[1]}\")\n",
    "print(f\"Görüntünün Kanal Sayısı ={my_img.shape[2]}\")"
   ]
  },
  {
   "cell_type": "code",
   "execution_count": 28,
   "id": "1dcc6a6e-c5aa-4f33-ba1a-c72917c340ee",
   "metadata": {},
   "outputs": [],
   "source": [
    "resized_img = cv2.resize(my_img,(624,624),cv2.INTER_LANCZOS4)\n",
    "\n",
    "\n",
    "cv2.imshow(\"Orijinal Image\",my_img)\n",
    "cv2.imshow(\"Resized Image\",resized_img)\n",
    "cv2.waitKey(0)\n",
    "cv2.destroyAllWindows()\n"
   ]
  },
  {
   "cell_type": "code",
   "execution_count": null,
   "id": "73096e3b-cf4b-4ad0-a096-81c1d1a539f6",
   "metadata": {},
   "outputs": [],
   "source": []
  }
 ],
 "metadata": {
  "kernelspec": {
   "display_name": "env_ybs_3",
   "language": "python",
   "name": "env_ybs_3"
  },
  "language_info": {
   "codemirror_mode": {
    "name": "ipython",
    "version": 3
   },
   "file_extension": ".py",
   "mimetype": "text/x-python",
   "name": "python",
   "nbconvert_exporter": "python",
   "pygments_lexer": "ipython3",
   "version": "3.10.10"
  }
 },
 "nbformat": 4,
 "nbformat_minor": 5
}
