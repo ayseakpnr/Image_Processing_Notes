{
 "cells": [
  {
   "cell_type": "code",
   "execution_count": 2,
   "id": "fd6fa9db-8388-4c48-bf46-c12bbd396f2b",
   "metadata": {},
   "outputs": [],
   "source": [
    "import tensorflow as tf\n",
    "from tensorflow import keras \n",
    "import numpy as np\n",
    "import matplotlib.pyplot as plt\n",
    "from sklearn.model_selection import train_test_split"
   ]
  },
  {
   "cell_type": "code",
   "execution_count": 16,
   "id": "8f18c0c7-ca21-44fe-8b8f-21cd963fbd49",
   "metadata": {},
   "outputs": [
    {
     "name": "stdout",
     "output_type": "stream",
     "text": [
      "MNIST Veri Seti Yükleniyor\n"
     ]
    }
   ],
   "source": [
    "print(\"MNIST Veri Seti Yükleniyor\")\n",
    "(x_train, y_train) , (x_test, y_test) = keras.datasets.mnist.load_data()"
   ]
  },
  {
   "cell_type": "code",
   "execution_count": 17,
   "id": "2bb47faa-ad78-4663-ac10-23bfb8aee690",
   "metadata": {},
   "outputs": [
    {
     "name": "stdout",
     "output_type": "stream",
     "text": [
      "Eğitim Verilerinin boyutu ve sayısı = (60000, 28, 28, 1)\n",
      "Test Verilerinin boyutu ve sayısı = (10000, 28, 28, 1)\n"
     ]
    }
   ],
   "source": [
    "x_train = x_train.reshape(-1,28,28,1)\n",
    "x_test = x_test.reshape(-1,28,28,1)\n",
    "\n",
    "\n",
    "x_train = x_train.astype('float32')/255.0\n",
    "x_test = x_test.astype('float32')/255.0\n",
    "\n",
    "\n",
    "print(f\"Eğitim Verilerinin boyutu ve sayısı = {x_train.shape}\")\n",
    "print(f\"Test Verilerinin boyutu ve sayısı = {x_test.shape}\")"
   ]
  },
  {
   "cell_type": "code",
   "execution_count": 18,
   "id": "face5b96-d091-417c-b34a-80b0b5a48912",
   "metadata": {},
   "outputs": [],
   "source": [
    "y_train = keras.utils.to_categorical(y_train, 10)\n",
    "y_test = keras.utils.to_categorical(y_test, 10)\n"
   ]
  },
  {
   "cell_type": "code",
   "execution_count": 19,
   "id": "0f91484e-ce31-4a12-b85f-3bb4e795cff4",
   "metadata": {},
   "outputs": [
    {
     "name": "stdout",
     "output_type": "stream",
     "text": [
      "Veri bölme sonrası boyutlar:\n",
      "Eğitim verisi boyutu: (48000, 28, 28, 1)\n",
      "Validation verisi boyutu: (12000, 28, 28, 1)\n"
     ]
    }
   ],
   "source": [
    "X_train, X_val, y_train_split, y_val = train_test_split(\n",
    "    x_train,\n",
    "    y_train,\n",
    "    test_size=0.2,\n",
    "    random_state=42,\n",
    "    stratify=y_train\n",
    ")\n",
    "\n",
    "print(f\"Veri bölme sonrası boyutlar:\")\n",
    "print(f\"Eğitim verisi boyutu: {X_train.shape}\")\n",
    "print(f\"Validation verisi boyutu: {X_val.shape}\")"
   ]
  },
  {
   "cell_type": "code",
   "execution_count": 25,
   "id": "bb9cccc8-b67b-4b8c-86ed-065c67bbac8a",
   "metadata": {},
   "outputs": [],
   "source": [
    "model = keras.Sequential([\n",
    "\n",
    "    keras.layers.Conv2D(32, (3,3), activation='relu', input_shape=(28,28,1)),\n",
    "    keras.layers.BatchNormalization(),\n",
    "    keras.layers.Conv2D(32, (3,3), activation='relu'),\n",
    "    keras.layers.BatchNormalization(),\n",
    "    keras.layers.MaxPooling2D((2,2)),\n",
    "    keras.layers.Dropout(0.25),\n",
    "\n",
    "\n",
    "    keras.layers.Conv2D(64, (3,3), activation='relu'),\n",
    "    keras.layers.BatchNormalization(),\n",
    "    keras.layers.Conv2D(64, (3,3), activation='relu'),\n",
    "    keras.layers.BatchNormalization(),\n",
    "    keras.layers.MaxPooling2D((2,2)),\n",
    "    keras.layers.Dropout(0.25),\n",
    "\n",
    "\n",
    "    keras.layers.Flatten(),\n",
    "    keras.layers.Dense(512, activation='relu'),\n",
    "    keras.layers.BatchNormalization(),\n",
    "    keras.layers.Dropout(0.5),\n",
    "    keras.layers.Dense(10, activation='softmax')\n",
    "])\n"
   ]
  },
  {
   "cell_type": "code",
   "execution_count": 26,
   "id": "f3ea4602-ec1e-4935-8d3d-4e4f85f5ac1a",
   "metadata": {},
   "outputs": [],
   "source": [
    "model.compile(\n",
    "    optimizer='adam',\n",
    "    loss='categorical_crossentropy',\n",
    "    metrics=['accuracy']\n",
    ")"
   ]
  },
  {
   "cell_type": "code",
   "execution_count": 27,
   "id": "31e8c532-c09b-4281-a197-0efc1f67fa61",
   "metadata": {},
   "outputs": [],
   "source": [
    "model_checkpoint = keras.callbacks.ModelCheckpoint(\n",
    "    'two_blocks_cnn_for_mnist_dataset.h5',\n",
    "    monitor='val_accuracy',\n",
    "    save_best_only=True,\n",
    "    mode='max',verbose=1)\n",
    "\n"
   ]
  },
  {
   "cell_type": "code",
   "execution_count": null,
   "id": "ae6bf6b1-7f51-4116-b8af-f22e42cd3f95",
   "metadata": {},
   "outputs": [
    {
     "name": "stdout",
     "output_type": "stream",
     "text": [
      "Epoch 1/5\n",
      "375/375 [==============================] - ETA: 0s - loss: 0.1928 - accuracy: 0.9419\n",
      "Epoch 1: val_accuracy improved from -inf to 0.23358, saving model to two_blocks_cnn_for_mnist_dataset.h5\n",
      "375/375 [==============================] - 132s 348ms/step - loss: 0.1928 - accuracy: 0.9419 - val_loss: 4.2036 - val_accuracy: 0.2336\n",
      "Epoch 2/5\n",
      "375/375 [==============================] - ETA: 0s - loss: 0.0636 - accuracy: 0.9807\n",
      "Epoch 2: val_accuracy improved from 0.23358 to 0.98808, saving model to two_blocks_cnn_for_mnist_dataset.h5\n",
      "375/375 [==============================] - 176s 469ms/step - loss: 0.0636 - accuracy: 0.9807 - val_loss: 0.0403 - val_accuracy: 0.9881\n",
      "Epoch 3/5\n",
      "375/375 [==============================] - ETA: 0s - loss: 0.0501 - accuracy: 0.9847\n",
      "Epoch 3: val_accuracy improved from 0.98808 to 0.99033, saving model to two_blocks_cnn_for_mnist_dataset.h5\n",
      "375/375 [==============================] - 181s 483ms/step - loss: 0.0501 - accuracy: 0.9847 - val_loss: 0.0318 - val_accuracy: 0.9903\n",
      "Epoch 4/5\n",
      "375/375 [==============================] - ETA: 0s - loss: 0.0401 - accuracy: 0.9874\n",
      "Epoch 4: val_accuracy improved from 0.99033 to 0.99100, saving model to two_blocks_cnn_for_mnist_dataset.h5\n",
      "375/375 [==============================] - 170s 453ms/step - loss: 0.0401 - accuracy: 0.9874 - val_loss: 0.0296 - val_accuracy: 0.9910\n",
      "Epoch 5/5\n",
      "304/375 [=======================>......] - ETA: 30s - loss: 0.0334 - accuracy: 0.9890"
     ]
    }
   ],
   "source": [
    "model.fit(X_train,y_train_split,validation_data=(X_val,y_val),\n",
    "          batch_size=128, epochs=5, callbacks=model_checkpoint,\n",
    "          verbose=1)"
   ]
  },
  {
   "cell_type": "code",
   "execution_count": null,
   "id": "36d6ea8a-7a7f-4283-ab87-ab3164986024",
   "metadata": {},
   "outputs": [],
   "source": []
  }
 ],
 "metadata": {
  "kernelspec": {
   "display_name": "env_ybs_3",
   "language": "python",
   "name": "env_ybs_3"
  },
  "language_info": {
   "codemirror_mode": {
    "name": "ipython",
    "version": 3
   },
   "file_extension": ".py",
   "mimetype": "text/x-python",
   "name": "python",
   "nbconvert_exporter": "python",
   "pygments_lexer": "ipython3",
   "version": "3.10.10"
  }
 },
 "nbformat": 4,
 "nbformat_minor": 5
}
